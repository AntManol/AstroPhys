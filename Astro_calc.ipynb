{
  "metadata": {
    "kernelspec": {
      "name": "python",
      "display_name": "Python (Pyodide)",
      "language": "python"
    },
    "language_info": {
      "codemirror_mode": {
        "name": "python",
        "version": 3
      },
      "file_extension": ".py",
      "mimetype": "text/x-python",
      "name": "python",
      "nbconvert_exporter": "python",
      "pygments_lexer": "ipython3",
      "version": "3.8"
    }
  },
  "nbformat_minor": 5,
  "nbformat": 4,
  "cells": [
    {
      "id": "8ed5b091-8494-4c07-bce7-c24156d445cc",
      "cell_type": "code",
      "source": "from sympy import symbols, diff\nimport numpy as np\nimport pandas as pd\n\n# Δεδομένα\nT1, dT1 = 5900, 50\nT2, dT2 = 5650, 50\n\nR1, dR1 = 2.818, 0.035\nR2, dR2 = 2.426, 0.030\n\n# Υπολογισμός φωτεινότητας από τον νόμο Stefan-Boltzmann\n# L = R^2 * (T/T0)^4, όπου T0 = 5777 K (θερμοκρασία του Ήλιου)\nT0 = 5777\n\ndef luminosity(R, dR, T, dT):\n    L = R**2 * (T / T0)**4\n    # Διάδοση σφάλματος\n    R_sym, T_sym = symbols('R T')\n    L_sym = R_sym**2 * (T_sym / T0)**4\n    dL_dR = diff(L_sym, R_sym).evalf(subs={R_sym: R, T_sym: T})\n    dL_dT = diff(L_sym, T_sym).evalf(subs={R_sym: R, T_sym: T})\n    dL = np.sqrt((dL_dR * dR)**2 + (dL_dT * dT)**2)\n    return float(L), float(dL)\n\nL1, dL1 = luminosity(R1, dR1, T1, dT1)\nL2, dL2 = luminosity(R2, dR2, T2, dT2)\n\n# Υπολογισμός M_bol με τον τύπο Pogson\n# M_bol = 4.82 - 5 log10(R^2) - log10((T/T0)^4)\ndef M_bol(R, dR, T, dT):\n    from math import log10\n    M = 4.82 - 5 * log10(R**2) - log10((T / T0)**4)\n    dM_dR = -5 / (np.log(10) * R)\n    dM_dT = -4 / (np.log(10) * T)\n    dM = np.sqrt((dM_dR * dR)**2 + (dM_dT * dT)**2)\n    return M, dM\n\nM1, dM1 = M_bol(R1, dR1, T1, dT1)\nM2, dM2 = M_bol(R2, dR2, T2, dT2)\n\n# Δημιουργία πίνακα\ndf = pd.DataFrame({\n    \"Αστέρας\": [\"Πρωτεύων\", \"Δευτερεύων\"],\n    \"Μάζα (M☉)\": [3.60, 2.64],\n    \"ΔΣ Μάζας (M☉)\": [0.17, 0.15],\n    \"Ακτίνα (R☉)\": [R1, R2],\n    \"ΔΣ Ακτίνας (R☉)\": [dR1, dR2],\n    \"Θερμοκρασία (K)\": [T1, T2],\n    \"ΔΣ Θερμοκρασίας (K)\": [dT1, dT2],\n    \"Φωτεινότητα (L☉)\": [L1, L2],\n    \"ΔΣ Φωτεινότητας (L☉)\": [dL1, dL2],\n    \"M_bol (mag)\": [M1, M2],\n    \"ΔΣ M_bol (mag)\": [dM1, dM2]\n})\n\ndf\n",
      "metadata": {
        "trusted": true
      },
      "outputs": [],
      "execution_count": null
    }
  ]
}